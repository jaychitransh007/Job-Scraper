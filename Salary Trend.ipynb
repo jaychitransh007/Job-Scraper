{
 "cells": [
  {
   "cell_type": "code",
   "execution_count": 96,
   "metadata": {},
   "outputs": [],
   "source": [
    "#number of pages\n",
    "import time\n",
    "import urllib.request, urllib.parse, urllib.error\n",
    "from bs4 import BeautifulSoup\n",
    "from fake_useragent import UserAgent\n",
    "import pandas as pd\n",
    "from collections import OrderedDict\n",
    "import re"
   ]
  },
  {
   "cell_type": "code",
   "execution_count": 97,
   "metadata": {},
   "outputs": [],
   "source": [
    "url = 'https://www.glassdoor.co.in/Salaries/new-delhi-product-manager-salary-SRCH_IL.0,9_IM1083_KO10,25.htm'\n",
    "\n",
    "ua = 'Mozilla/5.0 (Windows NT 5.1) AppleWebKit/537.36 (KHTML, like Gecko) Chrome/35.0.3319.102 Safari/537.36'"
   ]
  },
  {
   "cell_type": "code",
   "execution_count": 98,
   "metadata": {},
   "outputs": [],
   "source": [
    "request = urllib.request.Request(url, headers = {'User-Agent' : ua})\n",
    "response = urllib.request.urlopen(request).read()"
   ]
  },
  {
   "cell_type": "code",
   "execution_count": 99,
   "metadata": {},
   "outputs": [],
   "source": [
    "soup = BeautifulSoup(response, 'lxml')"
   ]
  },
  {
   "cell_type": "code",
   "execution_count": 100,
   "metadata": {},
   "outputs": [],
   "source": [
    "company_name = []\n",
    "salary_list = []\n",
    "designation = []\n",
    "\n",
    "for page in range(1, pages):\n",
    "    page_url = 'https://www.glassdoor.co.in/Salaries/new-delhi-product-manager-salary-SRCH_IL.0,9_IM1083_KO10,25_IP' + str(page) + '.htm'\n",
    "    page_request = urllib.request.Request(page_url, headers = {'User-Agent' : ua})\n",
    "    page_response = urllib.request.urlopen(page_request).read()\n",
    "    \n",
    "    page_soup = BeautifulSoup(page_response, 'lxml')\n",
    "    \n",
    "    for role in soup.find_all('div', {'class' : 'JobInfoStyle__jobTitle'}):\n",
    "        designation.append(role.getText())\n",
    "    \n",
    "    for employer in soup.find_all('div', {'class' : 'JobInfoStyle__employerName'}):\n",
    "        company_name.append(employer.getText().strip())\n",
    "        \n",
    "    for salary in soup.find_all('div', {'class' : 'SalaryRowStyle__tightLines'}):\n",
    "        salary_list.append(salary.getText().strip()[1:])\n",
    "\n",
    "    time.sleep(2)\n",
    "\n",
    "        \n",
    "#glassdoor = OrderedDict({'Company' : company_name, 'Salary' : salary_list})"
   ]
  },
  {
   "cell_type": "code",
   "execution_count": 109,
   "metadata": {},
   "outputs": [],
   "source": [
    "od = OrderedDict({'Company' : company_name, 'Salary (INR)' : salary_list, 'Designation' : designation})\n",
    "df = pd.DataFrame(od)"
   ]
  },
  {
   "cell_type": "code",
   "execution_count": 113,
   "metadata": {},
   "outputs": [
    {
     "data": {
      "text/html": [
       "<div>\n",
       "<style scoped>\n",
       "    .dataframe tbody tr th:only-of-type {\n",
       "        vertical-align: middle;\n",
       "    }\n",
       "\n",
       "    .dataframe tbody tr th {\n",
       "        vertical-align: top;\n",
       "    }\n",
       "\n",
       "    .dataframe thead th {\n",
       "        text-align: right;\n",
       "    }\n",
       "</style>\n",
       "<table border=\"1\" class=\"dataframe\">\n",
       "  <thead>\n",
       "    <tr style=\"text-align: right;\">\n",
       "      <th></th>\n",
       "      <th>Company</th>\n",
       "      <th>Salary (INR)</th>\n",
       "      <th>Designation</th>\n",
       "    </tr>\n",
       "  </thead>\n",
       "  <tbody>\n",
       "    <tr>\n",
       "      <th>0</th>\n",
       "      <td>Times Internet</td>\n",
       "      <td>1,382,937</td>\n",
       "      <td>Product Manager</td>\n",
       "    </tr>\n",
       "    <tr>\n",
       "      <th>1</th>\n",
       "      <td>Snapdeal</td>\n",
       "      <td>1,964,888</td>\n",
       "      <td>Product Manager</td>\n",
       "    </tr>\n",
       "    <tr>\n",
       "      <th>2</th>\n",
       "      <td>MakeMyTrip</td>\n",
       "      <td>1,598,432</td>\n",
       "      <td>Product Manager</td>\n",
       "    </tr>\n",
       "    <tr>\n",
       "      <th>3</th>\n",
       "      <td>IndiaMART</td>\n",
       "      <td>979,086</td>\n",
       "      <td>Product Manager</td>\n",
       "    </tr>\n",
       "    <tr>\n",
       "      <th>4</th>\n",
       "      <td>Paytm</td>\n",
       "      <td>1,362,714</td>\n",
       "      <td>Product Manager</td>\n",
       "    </tr>\n",
       "  </tbody>\n",
       "</table>\n",
       "</div>"
      ],
      "text/plain": [
       "          Company Salary (INR)      Designation\n",
       "0  Times Internet    1,382,937  Product Manager\n",
       "1        Snapdeal    1,964,888  Product Manager\n",
       "2      MakeMyTrip    1,598,432  Product Manager\n",
       "3       IndiaMART      979,086  Product Manager\n",
       "4           Paytm    1,362,714  Product Manager"
      ]
     },
     "execution_count": 113,
     "metadata": {},
     "output_type": "execute_result"
    }
   ],
   "source": [
    "df.head()"
   ]
  },
  {
   "cell_type": "code",
   "execution_count": 115,
   "metadata": {},
   "outputs": [],
   "source": [
    "df['Salary (INR)'] = df['Salary (INR)'].str.replace(',','').astype(int)"
   ]
  },
  {
   "cell_type": "code",
   "execution_count": 117,
   "metadata": {},
   "outputs": [
    {
     "data": {
      "text/html": [
       "<div>\n",
       "<style scoped>\n",
       "    .dataframe tbody tr th:only-of-type {\n",
       "        vertical-align: middle;\n",
       "    }\n",
       "\n",
       "    .dataframe tbody tr th {\n",
       "        vertical-align: top;\n",
       "    }\n",
       "\n",
       "    .dataframe thead th {\n",
       "        text-align: right;\n",
       "    }\n",
       "</style>\n",
       "<table border=\"1\" class=\"dataframe\">\n",
       "  <thead>\n",
       "    <tr style=\"text-align: right;\">\n",
       "      <th></th>\n",
       "      <th>Salary (INR)</th>\n",
       "    </tr>\n",
       "  </thead>\n",
       "  <tbody>\n",
       "    <tr>\n",
       "      <th>count</th>\n",
       "      <td>8.000000e+01</td>\n",
       "    </tr>\n",
       "    <tr>\n",
       "      <th>mean</th>\n",
       "      <td>1.559781e+06</td>\n",
       "    </tr>\n",
       "    <tr>\n",
       "      <th>std</th>\n",
       "      <td>4.441560e+05</td>\n",
       "    </tr>\n",
       "    <tr>\n",
       "      <th>min</th>\n",
       "      <td>9.206590e+05</td>\n",
       "    </tr>\n",
       "    <tr>\n",
       "      <th>25%</th>\n",
       "      <td>1.159910e+06</td>\n",
       "    </tr>\n",
       "    <tr>\n",
       "      <th>50%</th>\n",
       "      <td>1.588086e+06</td>\n",
       "    </tr>\n",
       "    <tr>\n",
       "      <th>75%</th>\n",
       "      <td>1.803892e+06</td>\n",
       "    </tr>\n",
       "    <tr>\n",
       "      <th>max</th>\n",
       "      <td>2.740000e+06</td>\n",
       "    </tr>\n",
       "  </tbody>\n",
       "</table>\n",
       "</div>"
      ],
      "text/plain": [
       "       Salary (INR)\n",
       "count  8.000000e+01\n",
       "mean   1.559781e+06\n",
       "std    4.441560e+05\n",
       "min    9.206590e+05\n",
       "25%    1.159910e+06\n",
       "50%    1.588086e+06\n",
       "75%    1.803892e+06\n",
       "max    2.740000e+06"
      ]
     },
     "execution_count": 117,
     "metadata": {},
     "output_type": "execute_result"
    }
   ],
   "source": [
    "#Salary trend in New Delhi Area\n",
    "df.describe()"
   ]
  },
  {
   "cell_type": "code",
   "execution_count": null,
   "metadata": {},
   "outputs": [],
   "source": []
  }
 ],
 "metadata": {
  "kernelspec": {
   "display_name": "Python 3",
   "language": "python",
   "name": "python3"
  },
  "language_info": {
   "codemirror_mode": {
    "name": "ipython",
    "version": 3
   },
   "file_extension": ".py",
   "mimetype": "text/x-python",
   "name": "python",
   "nbconvert_exporter": "python",
   "pygments_lexer": "ipython3",
   "version": "3.6.4"
  }
 },
 "nbformat": 4,
 "nbformat_minor": 2
}
